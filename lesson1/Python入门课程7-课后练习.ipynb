{
 "cells": [
  {
   "cell_type": "markdown",
   "metadata": {},
   "source": [
    "## 将字符串转化成小写字母\n",
    "\n",
    "实现函数 ToLowerCase()，该函数接收一个字符串参数 str，并将该字符串中的大写字母转换成小写字母，之后返回新的字符串。"
   ]
  },
  {
   "cell_type": "code",
   "execution_count": 0,
   "metadata": {},
   "outputs": [],
   "source": [
    "def toLowerCase(str: str) \n",
    "    #Put you anwser here\n",
    "    return str"
   ]
  },
  {
   "cell_type": "markdown",
   "metadata": {},
   "source": [
    "## 反转字符串中的单词\n",
    "\n",
    "给定一个字符串，你需要反转字符串中每个单词的字符顺序，同时仍保留空格和单词的初始顺序。\n",
    "\n",
    "示例 1:\n",
    "\n",
    "> 输入: \"Let's take deep learning contest\"\n",
    "\n",
    "> 输出: \"s'teL ekat peed gninrael tsetnoc\"\n",
    "\n"
   ]
  },
  {
   "cell_type": "code",
   "execution_count": null,
   "metadata": {},
   "outputs": [],
   "source": [
    "def reverseWords(s: str) \n",
    "    #Put you anwser here\n",
    "    return str"
   ]
  },
  {
   "cell_type": "markdown",
   "metadata": {},
   "source": [
    "## 排列组合\n",
    "\n",
    "有四个数字：1、2、3、4，能组成多少个互不相同且无重复数字的三位数？各是多少？"
   ]
  },
  {
   "cell_type": "code",
   "execution_count": null,
   "metadata": {},
   "outputs": [],
   "source": [
    "def Permutation():\n",
    "    list = []\n",
    "    #Code goes here\n",
    "    return list"
   ]
  },
  {
   "cell_type": "markdown",
   "metadata": {},
   "source": [
    "## 阶乘\n",
    "让函数FirstFactorial（num）接受传递的num参数并返回它的阶乘。例如：如果num = 4，则程序应返回（4 * 3 * 2 * 1）= 24.对于测试用例，范围将介于1和18之间，输入将始终为整数"
   ]
  },
  {
   "cell_type": "code",
   "execution_count": null,
   "metadata": {},
   "outputs": [],
   "source": [
    "def FirstFactorial(num): \n",
    "\n",
    "\n",
    "    return num\n",
    "    \n",
    "# keep this function call here  \n",
    "print FirstFactorial(raw_input())  "
   ]
  },
  {
   "cell_type": "markdown",
   "metadata": {},
   "source": [
    "## 整型转罗马数字\n",
    "\n",
    "罗马数字 3 写做 III ，即为3个并列的 1。12 写做 XII ，即为 X + II 。 26 写做  XXVI, 即为 XX + V + I 。\n",
    "也有一些特例, 例如4, 可以放到V的左边, IV表示4. "
   ]
  },
  {
   "cell_type": "code",
   "execution_count": null,
   "metadata": {},
   "outputs": [],
   "source": [
    "def intToRoman( num: int):\n",
    "    roman = \"\"\n",
    "    # code goes here\n",
    "    return roman"
   ]
  },
  {
   "cell_type": "markdown",
   "metadata": {},
   "source": [
    "## 盛水最多的容器\n",
    "\n",
    "给定 n 个非负整数 a1，a2，...，an，每个数代表坐标中的一个点 (i, ai) 。在坐标内画 n 条垂直线，垂直线 i 的两个端点分别为 (i, ai) 和 (i, 0)。找出其中的两条线，使得它们与 x 轴共同构成的容器可以容纳最多的水。\n",
    "\n",
    "说明：你不能倾斜容器，且 n 的值至少为 2。\n",
    "\n",
    "![](https://ai-studio-static-online.cdn.bcebos.com/8201601c528c46e8af4bab4e65bd8cc4973d1c44f1a24b0da4238fc77a650117)\n",
    "\n",
    "图中垂直线代表输入数组 [1,8,6,2,5,4,8,3,7]。在此情况下，容器能够容纳水（表示为蓝色部分）的最大值为 49。\n",
    "\n",
    "示例:\n",
    "```\n",
    "输入: [1,8,6,2,5,4,8,3,7]\n",
    "输出: 49\n",
    "```"
   ]
  },
  {
   "cell_type": "code",
   "execution_count": null,
   "metadata": {},
   "outputs": [],
   "source": [
    "def maxArea(height: List[int]):\n",
    "    area = 0\n",
    "    # code goes here \n",
    "    \n",
    "    return area"
   ]
  },
  {
   "cell_type": "markdown",
   "metadata": {},
   "source": [
    "## 矩阵置零\n",
    "\n",
    "\n",
    "给定一个 m * n 的矩阵，如果一个元素为 0，则将其所在行和列的所有元素都设为 0。请使用原地算法。\n",
    "\n",
    "示例 1:\n",
    "```\n",
    "输入: \n",
    "[\n",
    "  [1,1,1],\n",
    "  [1,0,1],\n",
    "  [1,1,1]\n",
    "]\n",
    "输出: \n",
    "[\n",
    "  [1,0,1],\n",
    "  [0,0,0],\n",
    "  [1,0,1]\n",
    "]\n",
    "```\n",
    "示例 2:\n",
    "```\n",
    "输入: \n",
    "[\n",
    "  [0,1,2,0],\n",
    "  [3,4,5,2],\n",
    "  [1,3,1,5]\n",
    "]\n",
    "输出: \n",
    "[\n",
    "  [0,0,0,0],\n",
    "  [0,4,5,0],\n",
    "  [0,3,1,0]\n",
    "]\n",
    "```\n",
    "进阶:\n",
    "\n",
    "* 一个直接的解决方案是使用  O(mn) 的额外空间，但这并不是一个好的解决方案。\n",
    "* 一个简单的改进方案是使用 O(m + n) 的额外空间，但这仍然不是最好的解决方案。\n",
    "* 你能想出一个常数空间的解决方案吗？\n",
    "\n",
    "\n"
   ]
  },
  {
   "cell_type": "code",
   "execution_count": null,
   "metadata": {},
   "outputs": [],
   "source": [
    "def setZeroes( matrix: List[List[int]]):\n",
    "    # Do not return anything, modify matrix in-place instead.\n",
    "    # Code goes here"
   ]
  },
  {
   "cell_type": "markdown",
   "metadata": {},
   "source": [
    "## 文件操作\n",
    "\n",
    "有两个磁盘文件A和B,各存放一行字母,要求把这两个文件中的信息合并(按字母顺序排列), 输出到一个新文件C中"
   ]
  },
  {
   "cell_type": "code",
   "execution_count": null,
   "metadata": {},
   "outputs": [],
   "source": [
    "def combination(file1, file2):\n",
    "    #Code goes here\n",
    "    return file3"
   ]
  },
  {
   "cell_type": "markdown",
   "metadata": {},
   "source": [
    "# 更高难度练习:\n",
    "\n",
    "\n",
    "### 一、猜数字\n",
    "经典的猜数字游戏，几乎所有人学编程时都会做。\n",
    "\n",
    "功能描述：随机选择一个三位以内的数字作为答案。用户输入一个数字，程序会提示大了或是小了，直到用户猜中。\n",
    "\n",
    " \n",
    "\n",
    "### 二、FizzBuzz\n",
    "另一道经典编程题。\n",
    "\n",
    "功能描述：遍历并打印0到100，如果数字能被3整除，显示Fizz；如果数字能被5整除，显示Buzz；如果能同时被3和5整除，就显示FizzBuzz。结果应该类似：0,1,2，Fizz，4，Buzz，6……14，FizzBuzz，16……\n",
    "\n",
    " \n",
    "\n",
    "### 三、猜数字的AI\n",
    "和猜数字一样，不过这次是设计一个能猜数字的AI\n",
    "\n",
    "功能描述：用户输入一个单位以内的数字，AI要用最少的次数猜中，并且显示出猜的次数和数字。\n",
    "\n",
    " \n",
    "\n",
    "### 四、整点报时\n",
    "老式挂钟会在整点的报时，响铃的次数和时间相等。我们设计一个在电脑上运行的报时器。\n",
    "\n",
    "功能描述：运行后，在每一个整点长响一声，半个整点短响两声。实现睡眠模式，晚上十二点到早上六点不响铃。\n",
    "\n",
    " \n",
    "\n",
    "### 五、敏感词审查\n",
    "一向痛恨网络审查的你成了某网站的审查员，要求审查网络上违反上头规定的名词。\n",
    "\n",
    "功能描述：要审查的帖子在这个文本文档里，要求将所有的和谐，三个代表，言论自由，64替换为*号。\n",
    "\n",
    " \n",
    "\n",
    "### 六、文字冒险游戏\n",
    "你想做个清新脱俗的文字游戏，只在命令行的黑框里运行。\n",
    "\n",
    "功能描述：尽量参考回合制RPG游戏的模式，游戏剧情自编，要有战斗模式，主角有HP属性，战斗和吃东西会对HP有相应的增减效果。\n",
    "\n",
    " \n",
    "\n",
    "### 七、词频统计\n",
    "你想分析某个英语写作者的写作风格，你想先从他使用词语的频率入手。\n",
    "\n",
    "功能描述：分析这个文本文档里的词频，按照出现频率由高到低排列结果，不区分大小写，过滤掉标点（可以使用正则表达式）。结果类似ok：234，play：122，funny：78\n",
    "\n",
    " \n",
    "\n",
    "### 八、Markdown转换器\n",
    "你一向喜欢在Windows的记事本里写文章，为了能方便的生成网页，你使用Markdown的格式写了篇文章，现在需要一个把Markdown转换成HTML格式的程序。\n",
    "\n",
    "功能描述：将这个文本文档里的内容转换成HTML文档。要尽可能的支持Markdown标签，越多越好。建议使用正则表达式。\n",
    "\n",
    " \n",
    "\n",
    "### 九、邮件轰炸机\n",
    "你的一个朋友生日快到了，你决定搞个恶作剧——用邮件塞满他的邮箱。\n",
    "\n",
    "功能描述：首先去注册十个邮箱，然后用这是个邮箱轮流发送随机生成的邮件内容给你的朋友。调整发送的频率，以免被服务器拒绝。\n",
    "\n",
    " \n",
    "\n",
    "### 十、用邮件控制电脑\n",
    "你的电脑放在宿舍，这时你在教室上课，你又决定搞个恶作剧吓吓装病请假在宿舍玩游戏的室友。\n",
    "\n",
    "功能描述：使用邮件发送特定的命令，让电脑上的程序判断发信方是否为控制邮箱，如果是就执行发送过来的命令。通过不同的方式实现尽可能多的功能。\n",
    "\n",
    " "
   ]
  }
 ],
 "metadata": {
  "kernelspec": {
   "display_name": "pandle_nlp",
   "language": "python",
   "name": "pandle_nlp"
  },
  "language_info": {
   "codemirror_mode": {
    "name": "ipython",
    "version": 3
   },
   "file_extension": ".py",
   "mimetype": "text/x-python",
   "name": "python",
   "nbconvert_exporter": "python",
   "pygments_lexer": "ipython3",
   "version": "3.9.5"
  }
 },
 "nbformat": 4,
 "nbformat_minor": 1
}
