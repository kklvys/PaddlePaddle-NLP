{
 "cells": [
  {
   "cell_type": "markdown",
   "metadata": {
    "collapsed": false
   },
   "source": [
    "# Python面向对象编程\n",
    "\n",
    "在本文中，您将学习Python中的OOP的以下基本概念：\n",
    "\n",
    "* Python类\n",
    "* 对象实例\n",
    "* 定义和使用方法\n",
    "* OOP继承"
   ]
  },
  {
   "cell_type": "markdown",
   "metadata": {
    "collapsed": false
   },
   "source": [
    "# 什么是面向对象编程（OOP）？\n",
    "\n",
    "面向对象编程（Object-oriented Programming，简称OOP）是一种编程范例，它提供了一种结构化程序的方法，以便将属性和行为捆绑到单个对象中。\n",
    "\n",
    "例如，对象可以表示具有姓名属性，年龄，地址等的人，具有行走，说话，呼吸和跑步等行为。或者包含收件人列表，主题，正文等属性的电子邮件，以及添加附件和发送等行为。\n",
    "\n",
    "换句话说，面向对象编程是一种, 可以为具体现实世界的事物建模的方法，如汽车以及公司和员工，学生和教师等事物之间的关系. OOP将现实世界的实体建模为软件对象，以及与之相关的数据，并可以执行某些功能。\n",
    "\n",
    "另一种常见的编程范例是函数式编程，其构造类似于顺序执行的程序，因为它以函数和代码块的形式提供一组执行步骤，这些步骤一步步执行以完成任务。\n",
    "\n",
    "关键的一点是，对象是面向对象编程范例的核心，不仅在函数编程中表示数据，而且在程序的整体结构中也是如此。\n",
    "\n",
    ">注意：由于Python是一种多范式编程语言(也就是说面向对象或者函数式编程都是可以的)，您可以选择最适合手头问题的范例，在一个程序中混合使用不同的范例，和/或随着程序的发展从一种范例切换到另一种范例。"
   ]
  },
  {
   "cell_type": "markdown",
   "metadata": {
    "collapsed": false
   },
   "source": [
    "# Python中的类\n",
    "\n",
    "首先关注数据，每个事物或对象都是某个类的实例。\n",
    "\n",
    "Python中可用的原始数据结构（如数字，字符串和列表）旨在分别表示简单的事物，例如某事物的成本，诗歌的名称和您喜欢的颜色。\n",
    "\n",
    "如果你想代表更复杂的东西怎么办？\n",
    "\n",
    "例如，假设您想跟踪许多不同的动物。如果您使用了列表，则第一个元素可以是动物的名称，而第二个元素可以表示其年龄。\n",
    "\n",
    "你怎么知道哪个元素应该是哪个？如果你有100种不同的动物怎么办？你确定每只动物都有名字和年龄，等等吗？如果你想为这些动物添加其他属性怎么办？这就是为什么我们需要一个\"类\"(Class)。\n",
    "\n",
    "类可以用来创建新的用户定义的数据结构，其中包含有关内容的任意信息。对于动物，我们可以创建一个Animal( )类来跟踪关于Animal的属性，如名称和年龄。\n",
    "\n",
    "注意, 一个类只提供结构 - 它是应该如何定义某个东西的蓝图，但它实际上并不提供任何真实的内容. Animal( )类可以指定名称和年龄, 是定义动物所必需的，但它实际上不会包含特定动物的名字或年龄。\n",
    "\n",
    "可以将\"类\"视为\"某事物的定义\". "
   ]
  },
  {
   "cell_type": "markdown",
   "metadata": {
    "collapsed": false
   },
   "source": [
    "# Python对象（实例）\n",
    "\n",
    "虽然类是蓝图，但实例是具有实际值的类的副本，字面上是属于特定类的对象。这不再是一个想法;它是一只真正的动物，就像一只名叫罗杰的狗，已经八岁了。\n",
    "\n",
    "换句话说，类就像一个表格或问卷。它定义了所需的信息。填写表格后，您的特定副本就是该类的一个实例;它包含与您相关的实际信息。\n",
    "\n",
    "您可以填写多个副本以创建许多不同的实例，但如果没有表单作为指导，您将会彻底迷失，不知道需要哪些信息。因此，在创建对象的单个实例之前，我们必须首先通过定义类来指定所需的内容。\n",
    "\n",
    "# 如何在Python中定义类\n",
    "\n",
    "在Python中定义类很简单：\n",
    "\n",
    "```\n",
    "class Dog:\n",
    "    pass\n",
    "```\n",
    "\n",
    "\n",
    "首先使用class关键字指示您正在创建一个类，然后添加该类的名称（使用骆驼命名法，以大写字母开头。）\n",
    "\n",
    "另外，我们在这里使用了Python关键字pass。这经常被用作代码最终会占用的占位符。它允许我们运行此代码, 而不会抛出错误。\n",
    "\n",
    "\n",
    ">注意：上面的代码在Python 3上是正确的。在Python 2.x（“遗留Python”）上，您将使用稍微不同的类定义：\n",
    ">```\n",
    ">＃Python 2.x类定义：\n",
    ">class Dog（object）：\n",
    ">    Pass\n",
    ">```\n",
    ">括号中的（对象）部分指定了您继承的父类（更多内容见下文。）在Python 3中，这不再是必需的，因为它采用隐式默认值。"
   ]
  },
  {
   "cell_type": "markdown",
   "metadata": {
    "collapsed": false
   },
   "source": [
    "\n",
    "# 实例属性\n",
    "\n",
    "所有类都需要创建对象，所有对象都包含称为属性的特征（在开头段落中称为属性）。使用__init __（）方法通过为对象的初始属性提供其默认值（或状态）来初始化（例如，指定）对象的初始属性。此方法必须至少有一个参数以及自变量，它引用对象本身（例如，Dog）。\n",
    "\n",
    "```\n",
    "class Dog:\n",
    "\n",
    "    # Initializer / Instance Attributes\n",
    "    def __init__(self, name, age):\n",
    "        self.name = name\n",
    "        self.age = age\n",
    "```\n",
    "\n",
    "在我们的Dog（）类中，每只狗都有一个特定的名字和年龄，这对于你何时开始真正创造不同的狗来说显然很重要。请记住：该类仅用于定义狗，而不是实际创建具有特定名称和年龄的个体狗的实例;我们很快就会谈到这一点。\n",
    "\n",
    "类似地，自变量也是类的实例。由于类的实例具有不同的值，我们可以声明Dog.name = name而不是self.name = name。但由于并非所有狗都拥有相同的名称，我们需要能够为不同的实例分配不同的值。因此需要特殊的自变量，这将有助于跟踪每个类的各个实例。\n",
    "\n",
    "\n",
    ">注意：您永远无需主动调用__init __（）方法;当你创建一个新的'Dog'实例时会自动调用它。"
   ]
  },
  {
   "cell_type": "markdown",
   "metadata": {
    "collapsed": false
   },
   "source": [
    "# 类属性\n",
    "\n",
    "虽然实例属性特定于每个对象，但类属性对于所有实例都是相同的 - 在这种情况下，属性都来自狗。\n",
    "\n",
    "```\n",
    "class Dog:\n",
    "\n",
    "    # Class Attribute\n",
    "    species = 'mammal'\n",
    "\n",
    "    # Initializer / Instance Attributes\n",
    "    def __init__(self, name, age):\n",
    "        self.name = name\n",
    "        self.age = age\n",
    "\n",
    "```\n",
    "因此，虽然每只狗都有一个独特的名字和年龄，但每只狗都是哺乳动物。\n",
    "\n",
    "让我们创造一些狗......\n",
    "\n",
    "\n",
    "# 实例化对象\n",
    "实例化是创建一个新的，唯一的类实例的意思。\n",
    "\n",
    "```\n",
    ">>> class Dog:\n",
    "...     pass\n",
    "...\n",
    ">>> Dog()\n",
    "<__main__.Dog object at 0x1004ccc50>\n",
    ">>> Dog()\n",
    "<__main__.Dog object at 0x1004ccc90>\n",
    ">>> a = Dog()\n",
    ">>> b = Dog()\n",
    ">>> a == b\n",
    "False\n",
    "```\n",
    "\n",
    "我们首先定义一个新的Dog（）类，然后创建两个新的狗，每个狗分配给不同的对象。因此，要创建类的实例，请使用类名，后跟括号。然后为了证明每个实例实际上是不同的，我们实例化了两个狗，将每个狗分配给一个变量，然后测试这些变量是否相等。\n",
    "\n",
    "您认为类实例的类型是什么？\n",
    "\n",
    "```\n",
    ">>> class Dog:\n",
    "...     pass\n",
    "...\n",
    ">>> a = Dog()\n",
    ">>> type(a)\n",
    "<class '__main__.Dog'>\n",
    "```\n",
    "\n",
    "\n",
    "让我们看一个稍微复杂的例子.....\n",
    "\n"
   ]
  },
  {
   "cell_type": "code",
   "execution_count": 1,
   "metadata": {
    "collapsed": false
   },
   "outputs": [
    {
     "name": "stdout",
     "output_type": "stream",
     "text": [
      "Philo is 5 and Mikey is 6.\n",
      "Philo is a mammal!\n"
     ]
    }
   ],
   "source": [
    "class Dog:\r\n",
    "\r\n",
    "    # Class Attribute\r\n",
    "    species = 'mammal'\r\n",
    "\r\n",
    "    # Initializer / Instance Attributes\r\n",
    "    def __init__(self, name, age):\r\n",
    "        self.name = name\r\n",
    "        self.age = age\r\n",
    "\r\n",
    "\r\n",
    "# Instantiate the Dog object\r\n",
    "philo = Dog(\"Philo\", 5)\r\n",
    "mikey = Dog(\"Mikey\", 6)\r\n",
    "\r\n",
    "# Access the instance attributes\r\n",
    "print(\"{} is {} and {} is {}.\".format(\r\n",
    "    philo.name, philo.age, mikey.name, mikey.age))\r\n",
    "\r\n",
    "# Is Philo a mammal?\r\n",
    "if philo.species == \"mammal\":\r\n",
    "    print(\"{0} is a {1}!\".format(philo.name, philo.species))"
   ]
  },
  {
   "cell_type": "markdown",
   "metadata": {
    "collapsed": false
   },
   "source": [
    ">注意：请注意我们如何使用点表示法来访问每个对象的属性。"
   ]
  },
  {
   "cell_type": "markdown",
   "metadata": {
    "collapsed": false
   },
   "source": [
    "## 这是怎么回事？\n",
    "\n",
    "我们创建了Dog（）类的新实例，并将其分配给变量philo。然后我们通过了两个论点，“Philo”和5，分别代表狗的名字和年龄。\n",
    "\n",
    "这些属性将传递给__init__方法，该方法在您创建新实例时将其调用，并将名称和年龄附加到对象。您可能想知道为什么我们不必传递自我论证。\n",
    "\n",
    "这是Python魔法: 当你创建一个新的类实例时，Python会自动确定self是什么（在本例中是一个Dog）并将其传递给__init__方法。\n",
    "\n",
    "## 练习\n",
    "\n",
    ">用相同的Dog类，实例化三只新狗，每只狗的年龄不同。然后编写一个名为get_biggest_number（）的函数，它接受任意数量的年龄并返回最旧的函数。然后输出最老的狗的年龄."
   ]
  },
  {
   "cell_type": "markdown",
   "metadata": {
    "collapsed": false
   },
   "source": [
    "# 实例方法\n",
    "\n",
    "实例方法在类中定义，用于获取实例的内容。\n",
    "\n",
    "它们还可用于使用对象的属性执行操作。与__init__方法一样，第一个参数始终是self："
   ]
  },
  {
   "cell_type": "code",
   "execution_count": 2,
   "metadata": {
    "collapsed": false
   },
   "outputs": [
    {
     "name": "stdout",
     "output_type": "stream",
     "text": [
      "Mikey is 6 years old\n",
      "Mikey says Gruff Gruff\n"
     ]
    }
   ],
   "source": [
    "class Dog:\r\n",
    "\r\n",
    "    # Class Attribute\r\n",
    "    species = 'mammal'\r\n",
    "\r\n",
    "    # Initializer / Instance Attributes\r\n",
    "    def __init__(self, name, age):\r\n",
    "        self.name = name\r\n",
    "        self.age = age\r\n",
    "\r\n",
    "    # instance method\r\n",
    "    def description(self):\r\n",
    "        return \"{} is {} years old\".format(self.name, self.age)\r\n",
    "\r\n",
    "    # instance method\r\n",
    "    def speak(self, sound):\r\n",
    "        return \"{} says {}\".format(self.name, sound)\r\n",
    "\r\n",
    "# Instantiate the Dog object\r\n",
    "mikey = Dog(\"Mikey\", 6)\r\n",
    "\r\n",
    "# call our instance methods\r\n",
    "print(mikey.description())\r\n",
    "print(mikey.speak(\"Gruff Gruff\"))"
   ]
  },
  {
   "cell_type": "markdown",
   "metadata": {
    "collapsed": false
   },
   "source": [
    "在后一种方法中，我们定义了行为speak（）。您可以为狗分配哪些其他行为？回顾一下开头的段落，看看其他对象的一些示例行为。"
   ]
  },
  {
   "cell_type": "markdown",
   "metadata": {
    "collapsed": false
   },
   "source": [
    "## 修改属性\n",
    "\n",
    "您可以根据某些行为更改属性的值：\n"
   ]
  },
  {
   "cell_type": "code",
   "execution_count": 3,
   "metadata": {
    "collapsed": false
   },
   "outputs": [
    {
     "name": "stdout",
     "output_type": "stream",
     "text": [
      "False\n",
      "True\n"
     ]
    }
   ],
   "source": [
    "class Email:\r\n",
    "    def __init__(self):\r\n",
    "        self.is_sent = False\r\n",
    "    def send_email(self):\r\n",
    "        self.is_sent = True\r\n",
    "        \r\n",
    "my_email = Email()\r\n",
    "print(my_email.is_sent)\r\n",
    "\r\n",
    "my_email.send_email()\r\n",
    "print(my_email.is_sent)"
   ]
  },
  {
   "cell_type": "markdown",
   "metadata": {
    "collapsed": false
   },
   "source": [
    "在这里，我们添加了一种发送电子邮件的方法，该方法将is_sent变量更新为True。\n",
    "\n",
    "# Python对象继承\n",
    "继承是一个类采用另一个类的属性和方法的过程。新形成的类称为子类，子类派生的类称为父类。\n",
    "\n",
    "重要的是要注意子类覆盖或扩展父类的功能（例如，属性和行为）。换句话说，子类继承了父项的所有属性和行为，但也可以添加不同行为。最基本的类是一个对象，通常所有其他类都继承为它们的父对象。\n",
    "\n",
    "定义新类时，Python 3隐式使用object作为父类。所以以下两个定义是等价的：\n",
    "\n",
    "```\n",
    "class Dog(object):\n",
    "    pass\n",
    "\n",
    "# In Python 3, this is the same as:\n",
    "\n",
    "class Dog:\n",
    "    pass\n",
    "```\n",
    "\n",
    "\n",
    ">注意：在Python 2.x中，新风格类和旧风格类之间存在区别。不在这里详细介绍，但是通常希望您将对象指定为父类，以确保在编写Python 2 OOP代码时定义新样式类。\n",
    "\n",
    "# 狗公园示例\n",
    "\n",
    "让我们假装我们在一个狗公园。有多个Dog对象, 发起不同的Dog行为，每个对象都有不同的属性。一般来说，这意味着有些狗正在跑步，而有些正在伸展，有些正在盯着其他狗。此外，每只狗都由它的主人命名，并且由于每只狗都是活生生的, 各个年龄段的都有。\n",
    "\n",
    "将一只狗与另一只狗区分开来的另一种方法是什么？狗的品种怎么样："
   ]
  },
  {
   "cell_type": "code",
   "execution_count": 4,
   "metadata": {
    "collapsed": false
   },
   "outputs": [
    {
     "name": "stdout",
     "output_type": "stream",
     "text": [
      "German Shepard\n",
      "Boston Terrier\n"
     ]
    }
   ],
   "source": [
    "class Dog:\r\n",
    "    def __init__(self, breed):\r\n",
    "        self.breed = breed\r\n",
    "\r\n",
    "spencer = Dog(\"German Shepard\")\r\n",
    "print(spencer.breed)\r\n",
    "\r\n",
    "sara = Dog(\"Boston Terrier\")\r\n",
    "print(sara.breed)\r\n"
   ]
  },
  {
   "cell_type": "markdown",
   "metadata": {
    "collapsed": false
   },
   "source": [
    "\n",
    "每种犬的行为略有不同。考虑到这些因素，让我们为每个品种创建单独的类。这些是父类Dog的子类。\n",
    "\n",
    "## 扩展父类的功能\n",
    "运行下方代码："
   ]
  },
  {
   "cell_type": "code",
   "execution_count": 5,
   "metadata": {
    "collapsed": false
   },
   "outputs": [
    {
     "name": "stdout",
     "output_type": "stream",
     "text": [
      "Jim is 12 years old\n",
      "Jim runs slowly\n"
     ]
    }
   ],
   "source": [
    "class Dog:\r\n",
    "\r\n",
    "    # Class attribute\r\n",
    "    species = 'mammal'\r\n",
    "\r\n",
    "    # Initializer / Instance attributes\r\n",
    "    def __init__(self, name, age):\r\n",
    "        self.name = name\r\n",
    "        self.age = age\r\n",
    "\r\n",
    "    # instance method\r\n",
    "    def description(self):\r\n",
    "        return \"{} is {} years old\".format(self.name, self.age)\r\n",
    "\r\n",
    "    # instance method\r\n",
    "    def speak(self, sound):\r\n",
    "        return \"{} says {}\".format(self.name, sound)\r\n",
    "\r\n",
    "\r\n",
    "# Child class (inherits from Dog class)\r\n",
    "class RussellTerrier(Dog):\r\n",
    "    def run(self, speed):\r\n",
    "        return \"{} runs {}\".format(self.name, speed)\r\n",
    "\r\n",
    "\r\n",
    "# Child class (inherits from Dog class)\r\n",
    "class Bulldog(Dog):\r\n",
    "    def run(self, speed):\r\n",
    "        return \"{} runs {}\".format(self.name, speed)\r\n",
    "\r\n",
    "\r\n",
    "# Child classes inherit attributes and\r\n",
    "# behaviors from the parent class\r\n",
    "jim = Bulldog(\"Jim\", 12)\r\n",
    "print(jim.description())\r\n",
    "\r\n",
    "# Child classes have specific attributes\r\n",
    "# and behaviors as well\r\n",
    "print(jim.run(\"slowly\"))"
   ]
  },
  {
   "cell_type": "markdown",
   "metadata": {
    "collapsed": false
   },
   "source": [
    "您完成此程序时，请仔细阅读代码, 以搞清其中的原理，然后在运行程序之前，先在大脑中预测一下输出结果, 然后和真正的输出结果比对一下, 看看是否一致. \n",
    "\n",
    "我们没有添加任何特殊属性或方法来区分RussellTerrier和Bulldog，但由于它们现在是两个不同的类，我们可以为它们添加一个速度的类属性。\n",
    "\n",
    "\n",
    "\n",
    "# 父类与子类\n",
    "isinstance（）函数用于确定实例是否也是某个父类的实例。\n",
    "\n"
   ]
  },
  {
   "cell_type": "code",
   "execution_count": 6,
   "metadata": {
    "collapsed": false
   },
   "outputs": [
    {
     "name": "stdout",
     "output_type": "stream",
     "text": [
      "Jim is 12 years old\n",
      "Jim runs slowly\n",
      "True\n",
      "True\n",
      "False\n"
     ]
    },
    {
     "ename": "TypeError",
     "evalue": "isinstance() arg 2 must be a type or tuple of types",
     "output_type": "error",
     "traceback": [
      "\u001b[0;31m---------------------------------------------------------------------------\u001b[0m",
      "\u001b[0;31mTypeError\u001b[0m                                 Traceback (most recent call last)",
      "\u001b[0;32m<ipython-input-6-c976ae4d1a2c>\u001b[0m in \u001b[0;36m<module>\u001b[0;34m\u001b[0m\n\u001b[1;32m     52\u001b[0m \u001b[0;34m\u001b[0m\u001b[0m\n\u001b[1;32m     53\u001b[0m \u001b[0;31m# Is julie and instance of jim?\u001b[0m\u001b[0;34m\u001b[0m\u001b[0;34m\u001b[0m\u001b[0m\n\u001b[0;32m---> 54\u001b[0;31m \u001b[0mprint\u001b[0m\u001b[0;34m(\u001b[0m\u001b[0misinstance\u001b[0m\u001b[0;34m(\u001b[0m\u001b[0mjulie\u001b[0m\u001b[0;34m,\u001b[0m \u001b[0mjim\u001b[0m\u001b[0;34m)\u001b[0m\u001b[0;34m)\u001b[0m\u001b[0;34m\u001b[0m\u001b[0m\n\u001b[0m",
      "\u001b[0;31mTypeError\u001b[0m: isinstance() arg 2 must be a type or tuple of types"
     ]
    }
   ],
   "source": [
    "# Parent class\r\n",
    "class Dog:\r\n",
    "\r\n",
    "    # Class attribute\r\n",
    "    species = 'mammal'\r\n",
    "\r\n",
    "    # Initializer / Instance attributes\r\n",
    "    def __init__(self, name, age):\r\n",
    "        self.name = name\r\n",
    "        self.age = age\r\n",
    "\r\n",
    "    # instance method\r\n",
    "    def description(self):\r\n",
    "        return \"{} is {} years old\".format(self.name, self.age)\r\n",
    "\r\n",
    "    # instance method\r\n",
    "    def speak(self, sound):\r\n",
    "        return \"{} says {}\".format(self.name, sound)\r\n",
    "\r\n",
    "\r\n",
    "# Child class (inherits from Dog() class)\r\n",
    "class RussellTerrier(Dog):\r\n",
    "    def run(self, speed):\r\n",
    "        return \"{} runs {}\".format(self.name, speed)\r\n",
    "\r\n",
    "\r\n",
    "# Child class (inherits from Dog() class)\r\n",
    "class Bulldog(Dog):\r\n",
    "    def run(self, speed):\r\n",
    "        return \"{} runs {}\".format(self.name, speed)\r\n",
    "\r\n",
    "\r\n",
    "# Child classes inherit attributes and\r\n",
    "# behaviors from the parent class\r\n",
    "jim = Bulldog(\"Jim\", 12)\r\n",
    "print(jim.description())\r\n",
    "\r\n",
    "# Child classes have specific attributes\r\n",
    "# and behaviors as well\r\n",
    "print(jim.run(\"slowly\"))\r\n",
    "\r\n",
    "# Is jim an instance of Dog()?\r\n",
    "print(isinstance(jim, Dog))\r\n",
    "\r\n",
    "# Is julie an instance of Dog()?\r\n",
    "julie = Dog(\"Julie\", 100)\r\n",
    "print(isinstance(julie, Dog))\r\n",
    "\r\n",
    "# Is johnny walker an instance of Bulldog()\r\n",
    "johnnywalker = RussellTerrier(\"Johnny Walker\", 4)\r\n",
    "print(isinstance(johnnywalker, Bulldog))\r\n",
    "\r\n",
    "# Is julie and instance of jim?\r\n",
    "print(isinstance(julie, jim))"
   ]
  },
  {
   "cell_type": "markdown",
   "metadata": {
    "collapsed": false
   },
   "source": [
    "\n",
    "看得懂吗？ jim和julie都是Dog（）类的实例，而johnnywalker不是Bulldog（）类的实例。然后作为一个完整性检查，我们测试了julie是否是jim的实例，这是不可能的，因为jim是类的实例而不是类本身 - 因此是TypeError的原因。\n",
    "\n",
    "##  覆盖父类的功能\n",
    "请记住，子类也可以覆盖父类的属性和行为。举些例子："
   ]
  },
  {
   "cell_type": "code",
   "execution_count": 7,
   "metadata": {
    "collapsed": false
   },
   "outputs": [
    {
     "name": "stdout",
     "output_type": "stream",
     "text": [
      "mammal\n",
      "reptile\n"
     ]
    }
   ],
   "source": [
    "class Dog:\r\n",
    "    species = 'mammal'\r\n",
    "\r\n",
    "class SomeBreed(Dog):\r\n",
    "    pass\r\n",
    "\r\n",
    "class SomeOtherBreed(Dog):\r\n",
    "     species = 'reptile'\r\n",
    "\r\n",
    "frank = SomeBreed()\r\n",
    "print(frank.species)\r\n",
    "\r\n",
    "beans = SomeOtherBreed()\r\n",
    "print(beans.species)\r\n"
   ]
  },
  {
   "cell_type": "markdown",
   "metadata": {
    "collapsed": false
   },
   "source": [
    "SomeBreed（）类从父类继承物种，而SomeOtherBreed（）类覆盖物种，将其设置为爬行动物~~~~~~~~\n",
    "\n",
    "# 练习: 狗狗继承\n",
    "创建一个容纳狗的实例的Pets类;这个类与Dog类完全分开。换句话说，Dog类不会继承Pets类。然后将三个dog实例分配给Pets类的实例。从下面的代码开始。将文件另存为pets_class.py。您的输出应如下所示：\n",
    "\n",
    ">I have 3 dogs.\n",
    ">\n",
    ">Tom is 6. \n",
    ">\n",
    ">Fletcher is 7. \n",
    ">\n",
    ">Larry is 9. \n",
    ">\n",
    ">And they're all mammals, of course.\n",
    "\n",
    "# 练习: 狗狗饿不饿\n",
    "\n",
    "使用相同的文件，将一个实例属性is_hungry = True添加到Dog类。然后添加一个名为eat（）的方法，在调用时将is_hungry的值更改为False。找出喂养每只狗的最佳方式，然后输出“我的狗饿了。”如果所有人都饿了或“我的狗不饿”。如果所有人都不饿。最终输出应如下所示：\n",
    "\n",
    ">I have 3 dogs. \n",
    ">\n",
    ">Tom is 6. \n",
    ">\n",
    ">Fletcher is 7. \n",
    ">\n",
    ">Larry is 9. \n",
    ">\n",
    ">And they're all mammals, of course. \n",
    ">\n",
    ">My dogs are not hungry."
   ]
  },
  {
   "cell_type": "markdown",
   "metadata": {
    "collapsed": false
   },
   "source": [
    "\n",
    "# 结论\n",
    "\n",
    "您现在应该知道哪些类是什么，为什么您想要或需要使用它们，以及如何创建父类和子类以更好地构建程序。\n",
    "\n",
    "请注意，OOP是一种编程范例，而不是Python概念。大多数现代编程语言，如Java，C＃，C ++都遵循OOP原则。所以好消息是学习面向对象的编程基础知识对你来说在各种情况下都很有价值 - 无论你是否使用Python"
   ]
  }
 ],
 "metadata": {
  "kernelspec": {
   "display_name": "PaddlePaddle 1.5.0 (Python 3.5)",
   "language": "python",
   "name": "py35-paddle1.2.0"
  },
  "language_info": {
   "codemirror_mode": {
    "name": "ipython",
    "version": 3
   },
   "file_extension": ".py",
   "mimetype": "text/x-python",
   "name": "python",
   "nbconvert_exporter": "python",
   "pygments_lexer": "ipython3",
   "version": "3.7.4"
  }
 },
 "nbformat": 4,
 "nbformat_minor": 1
}
